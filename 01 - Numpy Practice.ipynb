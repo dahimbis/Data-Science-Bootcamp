{
 "cells": [
  {
   "cell_type": "code",
   "execution_count": 3,
   "id": "6b47e127-1038-4afe-a8d5-bb084dc92ca7",
   "metadata": {},
   "outputs": [],
   "source": [
    "import numpy as np"
   ]
  },
  {
   "cell_type": "code",
   "execution_count": 5,
   "id": "c4ee4bfb-8185-4c14-a690-8676c85fcd93",
   "metadata": {},
   "outputs": [],
   "source": [
    "arr = np.array([1,2])"
   ]
  },
  {
   "cell_type": "code",
   "execution_count": 15,
   "id": "a87272a6-fac0-4b80-a470-55f786a5db4e",
   "metadata": {},
   "outputs": [
    {
     "data": {
      "text/plain": [
       "array([1, 2])"
      ]
     },
     "execution_count": 15,
     "metadata": {},
     "output_type": "execute_result"
    }
   ],
   "source": [
    "arr"
   ]
  },
  {
   "cell_type": "code",
   "execution_count": 17,
   "id": "d22b8ec7-0c37-4528-a3e0-c9819d9fe0f0",
   "metadata": {},
   "outputs": [
    {
     "data": {
      "text/plain": [
       "array([ 0,  1,  2,  3,  4,  5,  6,  7,  8,  9, 10])"
      ]
     },
     "execution_count": 17,
     "metadata": {},
     "output_type": "execute_result"
    }
   ],
   "source": [
    "np.arange(0,11)"
   ]
  },
  {
   "cell_type": "code",
   "execution_count": 19,
   "id": "869ce86c-8c26-4d90-b682-ef4cdf8a7d87",
   "metadata": {},
   "outputs": [
    {
     "data": {
      "text/plain": [
       "array([0., 0.])"
      ]
     },
     "execution_count": 19,
     "metadata": {},
     "output_type": "execute_result"
    }
   ],
   "source": [
    "np.zeros(2)"
   ]
  },
  {
   "cell_type": "code",
   "execution_count": 21,
   "id": "66da017a-a54a-4cff-b5e2-9f74f8c17942",
   "metadata": {},
   "outputs": [
    {
     "data": {
      "text/plain": [
       "array([[0., 0.],\n",
       "       [0., 0.]])"
      ]
     },
     "execution_count": 21,
     "metadata": {},
     "output_type": "execute_result"
    }
   ],
   "source": [
    "np.zeros((2,2))"
   ]
  },
  {
   "cell_type": "code",
   "execution_count": 25,
   "id": "24989d76-a635-430b-bd42-147eacb77f09",
   "metadata": {},
   "outputs": [
    {
     "data": {
      "text/plain": [
       "array([[1., 1.],\n",
       "       [1., 1.]])"
      ]
     },
     "execution_count": 25,
     "metadata": {},
     "output_type": "execute_result"
    }
   ],
   "source": [
    "np.ones((2,2))"
   ]
  },
  {
   "cell_type": "code",
   "execution_count": 29,
   "id": "21cacd29-d226-46ab-915e-d9e91d280029",
   "metadata": {},
   "outputs": [
    {
     "data": {
      "text/plain": [
       "array([[1., 0., 0., 0., 0.],\n",
       "       [0., 1., 0., 0., 0.],\n",
       "       [0., 0., 1., 0., 0.],\n",
       "       [0., 0., 0., 1., 0.],\n",
       "       [0., 0., 0., 0., 1.]])"
      ]
     },
     "execution_count": 29,
     "metadata": {},
     "output_type": "execute_result"
    }
   ],
   "source": [
    "np.eye(5)"
   ]
  },
  {
   "cell_type": "code",
   "execution_count": 35,
   "id": "fcc07790-c7c4-4c11-8175-bafba198322d",
   "metadata": {},
   "outputs": [
    {
     "data": {
      "text/plain": [
       "array([0.1009636 , 0.09537904, 0.35898051, 0.42627422])"
      ]
     },
     "execution_count": 35,
     "metadata": {},
     "output_type": "execute_result"
    }
   ],
   "source": [
    "np.random.rand(4)"
   ]
  },
  {
   "cell_type": "code",
   "execution_count": 37,
   "id": "fd3ad923-f189-412f-a8a2-308ac32e4a23",
   "metadata": {},
   "outputs": [
    {
     "data": {
      "text/plain": [
       "array([-0.85372749,  0.08256894, -0.76026451, -0.81459212])"
      ]
     },
     "execution_count": 37,
     "metadata": {},
     "output_type": "execute_result"
    }
   ],
   "source": [
    "np.random.randn(4)"
   ]
  },
  {
   "cell_type": "code",
   "execution_count": 41,
   "id": "68b5f800-6fd2-439b-b045-527291ec2e51",
   "metadata": {},
   "outputs": [
    {
     "data": {
      "text/plain": [
       "array([3, 0, 9, 1, 3])"
      ]
     },
     "execution_count": 41,
     "metadata": {},
     "output_type": "execute_result"
    }
   ],
   "source": [
    "np.random.randint(0,10,5)"
   ]
  },
  {
   "cell_type": "code",
   "execution_count": 43,
   "id": "35f5d987-b2cf-49ad-a7dd-72029c3a999e",
   "metadata": {},
   "outputs": [],
   "source": [
    "rarr = np.arange(25)"
   ]
  },
  {
   "cell_type": "code",
   "execution_count": 45,
   "id": "51eff040-f9b0-43e5-9a66-8f17ed1ad106",
   "metadata": {},
   "outputs": [
    {
     "name": "stdout",
     "output_type": "stream",
     "text": [
      "[ 0  1  2  3  4  5  6  7  8  9 10 11 12 13 14 15 16 17 18 19 20 21 22 23\n",
      " 24]\n"
     ]
    }
   ],
   "source": [
    "print(rarr)"
   ]
  },
  {
   "cell_type": "code",
   "execution_count": 47,
   "id": "bbb4338d-ad15-4c2f-989e-ff01ca2294a8",
   "metadata": {},
   "outputs": [
    {
     "data": {
      "text/plain": [
       "array([[ 0,  1,  2,  3,  4],\n",
       "       [ 5,  6,  7,  8,  9],\n",
       "       [10, 11, 12, 13, 14],\n",
       "       [15, 16, 17, 18, 19],\n",
       "       [20, 21, 22, 23, 24]])"
      ]
     },
     "execution_count": 47,
     "metadata": {},
     "output_type": "execute_result"
    }
   ],
   "source": [
    "rarr.reshape(5,5)"
   ]
  },
  {
   "cell_type": "code",
   "execution_count": 51,
   "id": "3e286fda-cfcf-4826-94e9-37313615d64e",
   "metadata": {},
   "outputs": [
    {
     "data": {
      "text/plain": [
       "24"
      ]
     },
     "execution_count": 51,
     "metadata": {},
     "output_type": "execute_result"
    }
   ],
   "source": [
    "rarr.max()"
   ]
  },
  {
   "cell_type": "code",
   "execution_count": 53,
   "id": "52e87feb-2bda-42f9-b0ff-81ed8b25e734",
   "metadata": {},
   "outputs": [
    {
     "data": {
      "text/plain": [
       "24"
      ]
     },
     "execution_count": 53,
     "metadata": {},
     "output_type": "execute_result"
    }
   ],
   "source": [
    "rarr.argmax()"
   ]
  },
  {
   "cell_type": "code",
   "execution_count": 57,
   "id": "c5547679-e27d-4af6-a93f-5f35a18202fb",
   "metadata": {},
   "outputs": [
    {
     "data": {
      "text/plain": [
       "0"
      ]
     },
     "execution_count": 57,
     "metadata": {},
     "output_type": "execute_result"
    }
   ],
   "source": [
    "rarr.argmin()"
   ]
  },
  {
   "cell_type": "code",
   "execution_count": 65,
   "id": "6f454000-ad0d-404c-a331-36a6588dbe89",
   "metadata": {},
   "outputs": [
    {
     "data": {
      "text/plain": [
       "array([[ 0,  1,  2,  3,  4],\n",
       "       [ 5,  6,  7,  8,  9],\n",
       "       [10, 11, 12, 13, 14],\n",
       "       [15, 16, 17, 18, 19],\n",
       "       [20, 21, 22, 23, 24]])"
      ]
     },
     "execution_count": 65,
     "metadata": {},
     "output_type": "execute_result"
    }
   ],
   "source": [
    "rarr.reshape(5,5)"
   ]
  },
  {
   "cell_type": "code",
   "execution_count": 67,
   "id": "520037fb-01b1-4485-b690-23ce70163bb0",
   "metadata": {},
   "outputs": [
    {
     "data": {
      "text/plain": [
       "(25,)"
      ]
     },
     "execution_count": 67,
     "metadata": {},
     "output_type": "execute_result"
    }
   ],
   "source": [
    "rarr.shape"
   ]
  },
  {
   "cell_type": "code",
   "execution_count": 83,
   "id": "67d06062-d6fd-406a-aba4-a32df7ad5fef",
   "metadata": {},
   "outputs": [
    {
     "data": {
      "text/plain": [
       "array([3.94119343e-01, 2.87774294e-01, 8.42374934e-01, 2.73764310e-01,\n",
       "       9.12127921e-01, 6.28118111e-01, 1.52676837e-01, 5.80758668e-01,\n",
       "       3.97874849e-01, 8.10740932e-02, 6.75674496e-03, 8.82158131e-01,\n",
       "       2.76647871e-01, 1.43084736e-01, 6.09195728e-01, 5.28320097e-01,\n",
       "       5.08147684e-04, 6.27567905e-01, 7.68945145e-01, 3.63661303e-01,\n",
       "       6.60843730e-01, 8.66181366e-01, 7.25831661e-01, 6.96591839e-01,\n",
       "       6.63705720e-01, 3.71437255e-01, 3.38887408e-01, 2.94979384e-01,\n",
       "       4.36964417e-01, 2.24564637e-01])"
      ]
     },
     "execution_count": 83,
     "metadata": {},
     "output_type": "execute_result"
    }
   ],
   "source": [
    "np.random.rand(30)"
   ]
  },
  {
   "cell_type": "code",
   "execution_count": 85,
   "id": "106b4b76-76bb-48cf-8ad9-533b3d5f16e4",
   "metadata": {},
   "outputs": [],
   "source": [
    "list =[[1,2],[3,4],[5,6]]"
   ]
  },
  {
   "cell_type": "code",
   "execution_count": 89,
   "id": "cff1524b-b717-485e-bdcc-2a020f6d153a",
   "metadata": {},
   "outputs": [
    {
     "data": {
      "text/plain": [
       "array([1, 2])"
      ]
     },
     "execution_count": 89,
     "metadata": {},
     "output_type": "execute_result"
    }
   ],
   "source": [
    "np.array(list[0])"
   ]
  },
  {
   "cell_type": "code",
   "execution_count": 99,
   "id": "8d518048-234e-4665-9aba-dddcb5c968c8",
   "metadata": {},
   "outputs": [],
   "source": [
    "nr = np.arange(0,10)"
   ]
  },
  {
   "cell_type": "code",
   "execution_count": 101,
   "id": "e562cea3-a4d2-46ad-b16c-22b885096725",
   "metadata": {},
   "outputs": [
    {
     "data": {
      "text/plain": [
       "array([0, 1, 2, 3, 4, 5, 6, 7, 8, 9])"
      ]
     },
     "execution_count": 101,
     "metadata": {},
     "output_type": "execute_result"
    }
   ],
   "source": [
    "nr"
   ]
  },
  {
   "cell_type": "code",
   "execution_count": 103,
   "id": "556b30d2-aacb-45d8-b545-edd0e5230594",
   "metadata": {},
   "outputs": [
    {
     "data": {
      "text/plain": [
       "array([0, 1, 2, 3, 4])"
      ]
     },
     "execution_count": 103,
     "metadata": {},
     "output_type": "execute_result"
    }
   ],
   "source": [
    "nr[0:5]"
   ]
  },
  {
   "cell_type": "code",
   "execution_count": 105,
   "id": "c73df331-6d4e-4ccf-a05c-e35e87aaf896",
   "metadata": {},
   "outputs": [
    {
     "data": {
      "text/plain": [
       "array([0, 1, 2, 3, 4, 5, 6, 7, 8, 9])"
      ]
     },
     "execution_count": 105,
     "metadata": {},
     "output_type": "execute_result"
    }
   ],
   "source": [
    "nr[:]"
   ]
  },
  {
   "cell_type": "code",
   "execution_count": 107,
   "id": "4c473059-1479-4066-9cd7-b81d863fc39d",
   "metadata": {},
   "outputs": [
    {
     "data": {
      "text/plain": [
       "9"
      ]
     },
     "execution_count": 107,
     "metadata": {},
     "output_type": "execute_result"
    }
   ],
   "source": [
    "nr[-1]"
   ]
  },
  {
   "cell_type": "code",
   "execution_count": 109,
   "id": "2abfd6b8-63ec-499a-91d2-f89dd42c4092",
   "metadata": {},
   "outputs": [],
   "source": [
    "nrr = nr.copy()"
   ]
  },
  {
   "cell_type": "code",
   "execution_count": 111,
   "id": "a925e35d-fa7e-428d-805e-df9afc19683e",
   "metadata": {},
   "outputs": [
    {
     "data": {
      "text/plain": [
       "array([0, 1, 2, 3, 4, 5, 6, 7, 8, 9])"
      ]
     },
     "execution_count": 111,
     "metadata": {},
     "output_type": "execute_result"
    }
   ],
   "source": [
    "nrr"
   ]
  },
  {
   "cell_type": "code",
   "execution_count": 113,
   "id": "d4383228-93e4-4440-b05d-9d125fdf14d7",
   "metadata": {},
   "outputs": [],
   "source": [
    "nrr[0:4] = 77"
   ]
  },
  {
   "cell_type": "code",
   "execution_count": 115,
   "id": "3ba26b61-5683-4242-a514-0b0ae9aaa1e5",
   "metadata": {},
   "outputs": [
    {
     "data": {
      "text/plain": [
       "array([77, 77, 77, 77,  4,  5,  6,  7,  8,  9])"
      ]
     },
     "execution_count": 115,
     "metadata": {},
     "output_type": "execute_result"
    }
   ],
   "source": [
    "nrr"
   ]
  },
  {
   "cell_type": "code",
   "execution_count": 117,
   "id": "67abe0e8-a0f3-4bc7-951e-50e56c08b57b",
   "metadata": {},
   "outputs": [],
   "source": [
    "nrr = np.array([[1,2],[3,4],[5,6]])"
   ]
  },
  {
   "cell_type": "code",
   "execution_count": 119,
   "id": "02d2a5d9-4407-4093-bf75-756f36b435c0",
   "metadata": {},
   "outputs": [
    {
     "data": {
      "text/plain": [
       "array([[1, 2],\n",
       "       [3, 4],\n",
       "       [5, 6]])"
      ]
     },
     "execution_count": 119,
     "metadata": {},
     "output_type": "execute_result"
    }
   ],
   "source": [
    "nrr"
   ]
  },
  {
   "cell_type": "code",
   "execution_count": 121,
   "id": "2260d25b-f622-451e-8617-c628550a4b67",
   "metadata": {},
   "outputs": [
    {
     "data": {
      "text/plain": [
       "4"
      ]
     },
     "execution_count": 121,
     "metadata": {},
     "output_type": "execute_result"
    }
   ],
   "source": [
    "nrr[1][1]"
   ]
  },
  {
   "cell_type": "code",
   "execution_count": 125,
   "id": "7bfaa605-ab6e-4e30-b0e0-171797a742de",
   "metadata": {},
   "outputs": [
    {
     "data": {
      "text/plain": [
       "6"
      ]
     },
     "execution_count": 125,
     "metadata": {},
     "output_type": "execute_result"
    }
   ],
   "source": [
    "nrr[2][1]"
   ]
  },
  {
   "cell_type": "code",
   "execution_count": 127,
   "id": "4a8dc1b9-3a27-4179-98e4-cd592d79c42e",
   "metadata": {},
   "outputs": [
    {
     "data": {
      "text/plain": [
       "6"
      ]
     },
     "execution_count": 127,
     "metadata": {},
     "output_type": "execute_result"
    }
   ],
   "source": [
    "nrr[2,1]"
   ]
  },
  {
   "cell_type": "code",
   "execution_count": 161,
   "id": "c7d9bafb-53a8-4f64-b687-cfdc9df99647",
   "metadata": {},
   "outputs": [],
   "source": [
    "p = np.array([[5,10,15],[20,25,30],[35,40,45]])"
   ]
  },
  {
   "cell_type": "code",
   "execution_count": 163,
   "id": "282a3516-e2d6-4526-a9fb-18897a16a971",
   "metadata": {},
   "outputs": [
    {
     "data": {
      "text/plain": [
       "array([[ 5, 10, 15],\n",
       "       [20, 25, 30],\n",
       "       [35, 40, 45]])"
      ]
     },
     "execution_count": 163,
     "metadata": {},
     "output_type": "execute_result"
    }
   ],
   "source": [
    "p"
   ]
  },
  {
   "cell_type": "code",
   "execution_count": 169,
   "id": "9b79b2a3-5ae0-4407-96b0-66b81cd31631",
   "metadata": {},
   "outputs": [
    {
     "data": {
      "text/plain": [
       "array([[10, 15],\n",
       "       [25, 30]])"
      ]
     },
     "execution_count": 169,
     "metadata": {},
     "output_type": "execute_result"
    }
   ],
   "source": [
    "p[:2,1:]"
   ]
  },
  {
   "cell_type": "code",
   "execution_count": 173,
   "id": "d4c03668-63f4-4435-961f-cc7d87a9821b",
   "metadata": {},
   "outputs": [],
   "source": [
    "p = np.arange(0,10)"
   ]
  },
  {
   "cell_type": "code",
   "execution_count": 175,
   "id": "cae2f9a9-6f7b-4646-87b3-31974bc38051",
   "metadata": {},
   "outputs": [
    {
     "data": {
      "text/plain": [
       "array([0, 1, 2, 3, 4, 5, 6, 7, 8, 9])"
      ]
     },
     "execution_count": 175,
     "metadata": {},
     "output_type": "execute_result"
    }
   ],
   "source": [
    "p"
   ]
  },
  {
   "cell_type": "code",
   "execution_count": 179,
   "id": "ba1589f4-f54d-44f0-ab97-3058d21cea95",
   "metadata": {},
   "outputs": [
    {
     "data": {
      "text/plain": [
       "array([False, False, False, False, False, False, False, False,  True,\n",
       "        True])"
      ]
     },
     "execution_count": 179,
     "metadata": {},
     "output_type": "execute_result"
    }
   ],
   "source": [
    "p>7"
   ]
  },
  {
   "cell_type": "code",
   "execution_count": 183,
   "id": "3e280fcf-455b-45b8-b933-b5bd6da8d49a",
   "metadata": {},
   "outputs": [
    {
     "data": {
      "text/plain": [
       "array([8, 9])"
      ]
     },
     "execution_count": 183,
     "metadata": {},
     "output_type": "execute_result"
    }
   ],
   "source": [
    "p[p>7]"
   ]
  },
  {
   "cell_type": "code",
   "execution_count": 185,
   "id": "ecdbefd6-6c29-404c-8799-498e68b2c4f1",
   "metadata": {},
   "outputs": [],
   "source": [
    "c= np.arange(25).reshape(5,5)"
   ]
  },
  {
   "cell_type": "code",
   "execution_count": 187,
   "id": "d00514ea-72f6-46cb-b79a-6ba7f1d81e01",
   "metadata": {},
   "outputs": [
    {
     "data": {
      "text/plain": [
       "array([[ 0,  1,  2,  3,  4],\n",
       "       [ 5,  6,  7,  8,  9],\n",
       "       [10, 11, 12, 13, 14],\n",
       "       [15, 16, 17, 18, 19],\n",
       "       [20, 21, 22, 23, 24]])"
      ]
     },
     "execution_count": 187,
     "metadata": {},
     "output_type": "execute_result"
    }
   ],
   "source": [
    "c"
   ]
  },
  {
   "cell_type": "code",
   "execution_count": 207,
   "id": "8b8a0b15-718c-4da0-b482-18b4538321dd",
   "metadata": {},
   "outputs": [
    {
     "data": {
      "text/plain": [
       "array([[13, 14],\n",
       "       [18, 19]])"
      ]
     },
     "execution_count": 207,
     "metadata": {},
     "output_type": "execute_result"
    }
   ],
   "source": [
    "c[2:4, 3:]"
   ]
  },
  {
   "cell_type": "code",
   "execution_count": 209,
   "id": "246818a0-4cb4-4a68-8897-b38bc9960c8f",
   "metadata": {},
   "outputs": [],
   "source": [
    "#Array Operations"
   ]
  },
  {
   "cell_type": "code",
   "execution_count": 211,
   "id": "361ee55f-784b-4691-9f71-fa6ed6374473",
   "metadata": {},
   "outputs": [],
   "source": [
    "arr = np.arange(0,10)"
   ]
  },
  {
   "cell_type": "code",
   "execution_count": 213,
   "id": "6d10ddd9-eec3-4edc-b352-270fb6a40855",
   "metadata": {},
   "outputs": [
    {
     "data": {
      "text/plain": [
       "array([ 0,  2,  4,  6,  8, 10, 12, 14, 16, 18])"
      ]
     },
     "execution_count": 213,
     "metadata": {},
     "output_type": "execute_result"
    }
   ],
   "source": [
    "arr+arr"
   ]
  },
  {
   "cell_type": "code",
   "execution_count": 215,
   "id": "034325fd-eb4c-463d-a089-8f24569e618c",
   "metadata": {},
   "outputs": [
    {
     "data": {
      "text/plain": [
       "array([0, 0, 0, 0, 0, 0, 0, 0, 0, 0])"
      ]
     },
     "execution_count": 215,
     "metadata": {},
     "output_type": "execute_result"
    }
   ],
   "source": [
    "arr-arr"
   ]
  },
  {
   "cell_type": "code",
   "execution_count": 217,
   "id": "e3152c52-3e3e-4f53-9758-aca503255b1e",
   "metadata": {},
   "outputs": [
    {
     "data": {
      "text/plain": [
       "array([ 0,  1,  4,  9, 16, 25, 36, 49, 64, 81])"
      ]
     },
     "execution_count": 217,
     "metadata": {},
     "output_type": "execute_result"
    }
   ],
   "source": [
    "arr*arr"
   ]
  },
  {
   "cell_type": "code",
   "execution_count": 219,
   "id": "88ceecbd-2f5f-4d36-89a3-4b77b0c0e731",
   "metadata": {},
   "outputs": [
    {
     "name": "stderr",
     "output_type": "stream",
     "text": [
      "C:\\Users\\User\\AppData\\Local\\Temp\\ipykernel_17696\\1862401812.py:1: RuntimeWarning: invalid value encountered in divide\n",
      "  arr/arr\n"
     ]
    },
    {
     "data": {
      "text/plain": [
       "array([nan,  1.,  1.,  1.,  1.,  1.,  1.,  1.,  1.,  1.])"
      ]
     },
     "execution_count": 219,
     "metadata": {},
     "output_type": "execute_result"
    }
   ],
   "source": [
    "arr/arr"
   ]
  },
  {
   "cell_type": "code",
   "execution_count": 221,
   "id": "bf0a6346-5d91-4b8a-b247-75e57341a58a",
   "metadata": {},
   "outputs": [
    {
     "data": {
      "text/plain": [
       "array([  0,  15,  30,  45,  60,  75,  90, 105, 120, 135])"
      ]
     },
     "execution_count": 221,
     "metadata": {},
     "output_type": "execute_result"
    }
   ],
   "source": [
    "arr*15"
   ]
  },
  {
   "cell_type": "code",
   "execution_count": null,
   "id": "4f6f56b6-5708-4acb-9aba-be6e3b4e3680",
   "metadata": {},
   "outputs": [],
   "source": []
  }
 ],
 "metadata": {
  "kernelspec": {
   "display_name": "Python 3 (ipykernel)",
   "language": "python",
   "name": "python3"
  },
  "language_info": {
   "codemirror_mode": {
    "name": "ipython",
    "version": 3
   },
   "file_extension": ".py",
   "mimetype": "text/x-python",
   "name": "python",
   "nbconvert_exporter": "python",
   "pygments_lexer": "ipython3",
   "version": "3.12.3"
  }
 },
 "nbformat": 4,
 "nbformat_minor": 5
}
